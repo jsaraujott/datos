{
 "cells": [
  {
   "cell_type": "markdown",
   "id": "b3727f9a",
   "metadata": {},
   "source": [
    "# Estadística descriptiva para Iris"
   ]
  },
  {
   "cell_type": "markdown",
   "id": "b184c550",
   "metadata": {},
   "source": [
    "## Entendimiento de los datos"
   ]
  },
  {
   "cell_type": "code",
   "execution_count": null,
   "id": "61fa2423",
   "metadata": {},
   "outputs": [],
   "source": [
    "# Cargar librerias\n",
    "import streamlit as st\n",
    "import pandas as pd\n",
    "import numpy as np\n",
    "import plotly.express as px\n",
    "\n",
    "import plotly.io as pio\n",
    "pio.templates.default = \"plotly\""
   ]
  },
  {
   "cell_type": "code",
   "execution_count": null,
   "id": "fa34d57a",
   "metadata": {},
   "outputs": [],
   "source": [
    "# Cargar dataset\n",
    "df = pd.read_csv(\"https://raw.githubusercontent.com/jsaraujott/datos/refs/heads/main/iris.csv\")\n",
    "df[\"type\"] = df[\"type\"].astype(str)"
   ]
  },
  {
   "cell_type": "code",
   "execution_count": null,
   "id": "3adb3cfa",
   "metadata": {},
   "outputs": [],
   "source": [
    "df.info()"
   ]
  },
  {
   "cell_type": "code",
   "execution_count": null,
   "id": "2662770f",
   "metadata": {},
   "outputs": [],
   "source": [
    "df.sample(10)"
   ]
  },
  {
   "cell_type": "code",
   "execution_count": null,
   "id": "fd4374c4",
   "metadata": {},
   "outputs": [],
   "source": [
    "df.describe().round(1)"
   ]
  },
  {
   "cell_type": "code",
   "execution_count": null,
   "id": "c35c14e3",
   "metadata": {},
   "outputs": [],
   "source": [
    "# Seleccionar 2 variables cualquiera\n",
    "opciones = list(df.columns)[0:4]\n",
    "v = (opciones[0],opciones[2])"
   ]
  },
  {
   "cell_type": "markdown",
   "id": "11feb36d",
   "metadata": {},
   "source": [
    "## Distribuciones de variables"
   ]
  },
  {
   "cell_type": "code",
   "execution_count": null,
   "id": "ba5d8afd",
   "metadata": {},
   "outputs": [],
   "source": [
    "# Visualizar histograma de variable 1\n",
    "hist_plot01 = px.histogram(\n",
    "    df, \n",
    "    x = v[0], \n",
    "    title = f\"Distribución {v[0]}\", \n",
    "    color = \"type\", \n",
    "    marginal = \"box\", \n",
    "    width = 700, \n",
    "    height = 400\n",
    ")\n",
    "hist_plot01.show()"
   ]
  },
  {
   "cell_type": "code",
   "execution_count": null,
   "id": "c1704825",
   "metadata": {},
   "outputs": [],
   "source": [
    "# Calcular estadisticos de variable 1\n",
    "prom1 = np.mean(df[v[0]])\n",
    "med1 = np.median(df[v[0]])\n",
    "desv1 = np.std(df[v[0]])\n",
    "print(\"Media: {:.1f}\".format(prom1))\n",
    "print(\"Mediana: {:.1f}\".format(med1))\n",
    "print(\"Desviación: {:.1f}\".format(desv1))"
   ]
  },
  {
   "cell_type": "code",
   "execution_count": null,
   "id": "dba20d55",
   "metadata": {},
   "outputs": [],
   "source": [
    "# Visualizar histograma de variable 2\n",
    "hist_plot02 = px.histogram(\n",
    "    df, \n",
    "    x = v[1], \n",
    "    title = f\"Distribución {v[1]}\", \n",
    "    color = \"type\", \n",
    "    marginal = \"box\", \n",
    "    width = 700, \n",
    "    height = 400\n",
    ")\n",
    "hist_plot02.show()"
   ]
  },
  {
   "cell_type": "code",
   "execution_count": null,
   "id": "48d4695c",
   "metadata": {},
   "outputs": [],
   "source": [
    "# Calcular estadisticos de variable 2\n",
    "prom1 = np.mean(df[v[1]])\n",
    "med1 = np.median(df[v[1]])\n",
    "desv1 = np.std(df[v[1]])\n",
    "print(\"Media: {:.1f}\".format(prom1))\n",
    "print(\"Mediana: {:.1f}\".format(med1))\n",
    "print(\"Desviación: {:.1f}\".format(desv1))"
   ]
  },
  {
   "cell_type": "markdown",
   "id": "d54dca5a",
   "metadata": {},
   "source": [
    "## Relación de variables"
   ]
  },
  {
   "cell_type": "code",
   "execution_count": null,
   "id": "b03e1a0a",
   "metadata": {},
   "outputs": [],
   "source": [
    "# Visualizar dispersion entre variables\n",
    "disp_plot = px.scatter(\n",
    "    df, \n",
    "    x = v[0], \n",
    "    y = v[1], \n",
    "    color = \"type\", \n",
    "    title = f\"Dispersión {v[1]} vs. {v[0]}\", \n",
    "    width = 700, \n",
    "    height = 400\n",
    ")\n",
    "disp_plot.show()"
   ]
  },
  {
   "cell_type": "code",
   "execution_count": null,
   "id": "3a9bab70",
   "metadata": {},
   "outputs": [],
   "source": [
    "# Calcular correlacion entre variables\n",
    "correl = np.corrcoef(df[v[0]],df[v[1]])\n",
    "print(\"Correlación de Pearson: {:.1%}\".format(correl[0,1]))"
   ]
  }
 ],
 "metadata": {
  "kernelspec": {
   "display_name": "Python 3",
   "language": "python",
   "name": "python3"
  },
  "language_info": {
   "codemirror_mode": {
    "name": "ipython",
    "version": 3
   },
   "file_extension": ".py",
   "mimetype": "text/x-python",
   "name": "python",
   "nbconvert_exporter": "python",
   "pygments_lexer": "ipython3",
   "version": "3.12.10"
  }
 },
 "nbformat": 4,
 "nbformat_minor": 5
}
